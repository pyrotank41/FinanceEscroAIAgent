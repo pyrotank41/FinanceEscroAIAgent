{
 "cells": [
  {
   "cell_type": "markdown",
   "id": "0304cbcd-15b8-48fb-bdb6-8d373e21f917",
   "metadata": {},
   "source": [
    "**Imports**"
   ]
  },
  {
   "cell_type": "code",
   "execution_count": 1,
   "id": "10c43ce8-3d7f-4e1a-9c05-b3345b1fafe1",
   "metadata": {},
   "outputs": [],
   "source": [
    "import requests\n",
    "from bs4 import BeautifulSoup"
   ]
  },
  {
   "cell_type": "markdown",
   "id": "f906ec80-6e75-4c49-8d82-dee4fdd413ed",
   "metadata": {},
   "source": [
    "**Fetch the Webpage**"
   ]
  },
  {
   "cell_type": "code",
   "execution_count": 2,
   "id": "829211ef-6329-4b7c-8e3a-47e11bfb5c99",
   "metadata": {
    "scrolled": true
   },
   "outputs": [],
   "source": [
    "url = \"https://www.consumerfinance.gov/rules-policy/regulations/1024/17/\"\n",
    "response = requests.get(url)\n",
    "\n",
    "# Check if the request was successful\n",
    "if response.status_code == 200:\n",
    "    html_content = response.text\n",
    "else:\n",
    "    print(\"Failed to retrieve the webpage\")\n",
    "    html_content = \"\""
   ]
  },
  {
   "cell_type": "markdown",
   "id": "8532d5f6-71c4-4f8d-bd37-147e40b88e44",
   "metadata": {},
   "source": [
    "**Parsing and saving the information for Future use**"
   ]
  },
  {
   "cell_type": "code",
   "execution_count": 3,
   "id": "9d88908f-27ef-429c-bdbb-9156bc2bbf4d",
   "metadata": {},
   "outputs": [],
   "source": [
    "# Parse the HTML content\n",
    "soup = BeautifulSoup(html_content, 'html5lib')\n",
    "\n",
    "# Extract the main content or specific elements; adjust the selection as needed\n",
    "main_content = soup.find('main')\n",
    "# print(main_content.text)"
   ]
  },
  {
   "cell_type": "code",
   "execution_count": 4,
   "id": "aa002177-aa97-408a-a0de-2b81d65ba123",
   "metadata": {},
   "outputs": [],
   "source": [
    "# Paragraph tags have the relevant information (Visually inspected the webpage): Extracting all paragraph texts\n",
    "paragraphs = soup.find_all('p')\n",
    "# for paragraph in paragraphs:\n",
    "#     print(paragraph.text, end=\"\\n\\n\")"
   ]
  },
  {
   "cell_type": "code",
   "execution_count": 5,
   "id": "5eb88498-3d4e-4e56-8998-966186550663",
   "metadata": {},
   "outputs": [],
   "source": [
    "# Saving the Escrow data\n",
    "with open('./escrow_data/1024_17_accounts_information.txt', 'w', encoding='utf-8') as file:\n",
    "    for paragraph in paragraphs:\n",
    "        file.write(paragraph.text + '\\n\\n')"
   ]
  },
  {
   "cell_type": "code",
   "execution_count": null,
   "id": "bfab46aa",
   "metadata": {},
   "outputs": [],
   "source": []
  }
 ],
 "metadata": {
  "kernelspec": {
   "display_name": "Python 3 (ipykernel)",
   "language": "python",
   "name": "python3"
  },
  "language_info": {
   "codemirror_mode": {
    "name": "ipython",
    "version": 3
   },
   "file_extension": ".py",
   "mimetype": "text/x-python",
   "name": "python",
   "nbconvert_exporter": "python",
   "pygments_lexer": "ipython3",
   "version": "3.11.5"
  }
 },
 "nbformat": 4,
 "nbformat_minor": 5
}
