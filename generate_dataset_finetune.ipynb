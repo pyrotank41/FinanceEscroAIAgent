{
 "cells": [
  {
   "cell_type": "code",
   "execution_count": 10,
   "metadata": {},
   "outputs": [],
   "source": [
    "import requests\n",
    "from bs4 import BeautifulSoup\n",
    "import re\n",
    "\n",
    "# Fetch the page\n",
    "url = 'https://www.consumerfinance.gov/rules-policy/regulations/1024/17/'\n",
    "response = requests.get(url)\n",
    "html_content = response.text\n",
    "\n",
    "# Parse the HTML\n",
    "soup = BeautifulSoup(html_content, 'html.parser')\n",
    "\n",
    "# Extract all paragraphs\n",
    "paragraphs = soup.find_all('p')\n",
    "# Combine all text into a single string for easier processing\n",
    "full_text = '\\n'.join([p.get_text() for p in paragraphs])"
   ]
  },
  {
   "cell_type": "code",
   "execution_count": 18,
   "metadata": {},
   "outputs": [],
   "source": [
    "from langchain.text_splitter import RecursiveCharacterTextSplitter\n",
    "\n",
    "text_splitter = RecursiveCharacterTextSplitter(\n",
    "    chunk_size=1250, chunk_overlap=20)\n",
    "\n",
    "chunks = text_splitter.split_text(full_text)\n"
   ]
  },
  {
   "cell_type": "code",
   "execution_count": 19,
   "metadata": {},
   "outputs": [
    {
     "name": "stdout",
     "output_type": "stream",
     "text": [
      "Number of chunks:  41\n",
      "Chunk 1:  (a) General. This section sets out the requirements for an escrow account that a lender establishes in connection with a federally related mortgage loan. It sets limits for escrow accounts using calculations based on monthly payments and disbursements within a calendar year. If an escrow account involves biweekly or any other payment period, the requirements in this section shall be modified accordingly. A Public Guidance Document entitled “Biweekly Payments - Example” provides examples of biweekly accounting and a Public Guidance Document entitled “Annual Escrow Account Disclosure Statement - Example” provides examples of a 3-year accounting cycle that may be used in accordance with paragraph (c)(9) of this section. A Public Guidance Document entitled “Consumer Disclosure for Voluntary Escrow Account Payments” provides a model disclosure format that originators and servicers are encouraged, but not required, to provide to consumers when the originator or servicer anticipates a substantial increase in disbursements from the escrow account after the first year of the loan. The disclosures in that model format may be combined with or included in the Initial Escrow Account Statement required in § 1024.17(g).\n",
      "Chunk 2:  (b) Definitions. As used in this section:\n",
      "Aggregate (or) composite analysis, hereafter called aggregate analysis, means an accounting method a servicer uses in conducting an escrow account analysis by computing the sufficiency of escrow account funds by analyzing the account as a whole. Appendix E to this part sets forth examples of aggregate escrow account analyses.\n",
      "Annual escrow account statement means a statement containing all of the information set forth in § 1024.17(i).  As noted in § 1024.17(i),  a servicer shall submit an annual escrow account statement to the borrower within 30 calendar days of the end of the escrow account computation year, after conducting an escrow account analysis.\n",
      "Cushion or reserve (hereafter cushion) means funds that a servicer may require a borrower to pay into an escrow account to cover unanticipated disbursements or disbursements made before the borrower's payments are available in the account, as limited by § 1024.17(c). \n",
      "Deficiency is the amount of a negative balance in an escrow account. As noted in § 1024.17(f),  if a servicer advances funds for a borrower, then the servicer must perform an escrow account analysis before seeking repayment of the deficiency.\n"
     ]
    }
   ],
   "source": [
    "print(\"Number of chunks: \", len(chunks))\n",
    "print(\"Chunk 1: \", chunks[0])\n",
    "print(\"Chunk 2: \", chunks[1])"
   ]
  },
  {
   "cell_type": "code",
   "execution_count": 34,
   "metadata": {},
   "outputs": [
    {
     "name": "stdout",
     "output_type": "stream",
     "text": [
      "{\n",
      "  \"questions\": [\n",
      "    {\n",
      "      \"question\": \"What does this section specify about the requirements for an escrow account established by a lender in connection with a federally related mortgage loan?\",\n",
      "      \"answer\": \"This section sets out the requirements for an escrow account established by a lender in connection with a federally related mortgage loan. It establishes limits for escrow accounts based on monthly payments and disbursements within a calendar year. The requirements are adjusted for escrow accounts involving payment periods other than monthly, such as biweekly.\"\n",
      "    },\n",
      "    {\n",
      "      \"question\": \"How are the limits for escrow accounts determined under this section?\",\n",
      "      \"answer\": \"The limits for escrow accounts are determined based on calculations involving monthly payments and disbursements within a calendar year. Special modifications are made for escrow accounts with payment periods different from monthly, as detailed in the section.\"\n",
      "    },\n",
      "    {\n",
      "      \"question\": \"What is the purpose of the Public Guidance Document titled 'Biweekly Payments - Example' mentioned in this section?\",\n",
      "      \"answer\": \"The Public Guidance Document 'Biweekly Payments - Example' provides illustrations and guidance on handling accounting related to biweekly payments within the context of escrow accounts. It offers examples to assist in understanding the calculations and processes involved.\"\n",
      "    },\n",
      "    {\n",
      "      \"question\": \"How does the section recommend originators and servicers handle substantial increases in disbursements from the escrow account after the first year of the loan?\",\n",
      "      \"answer\": \"Originators and servicers are encouraged, though not obligated, to provide consumers with a model disclosure format titled 'Consumer Disclosure for Voluntary Escrow Account Payments.' This format can be used when there is an anticipation of significant increases in disbursements from the escrow account after the first year of the loan. The disclosures in this format can be included in the Initial Escrow Account Statement as required.\"\n",
      "    }\n",
      "  ]\n",
      "}\n"
     ]
    }
   ],
   "source": [
    "from openai import OpenAI\n",
    "from utility.utils import get_openai_api_key\n",
    "\n",
    "OpenAI.api_key = get_openai_api_key()\n",
    "client = OpenAI()\n",
    "\n",
    "\n",
    "\n",
    "chat_completion = client.chat.completions.create(\n",
    "    messages=[\n",
    "        {\n",
    "          \"role\":\"system\",\n",
    "          \"content\": \"\"\"\n",
    "          # Role\n",
    "          you are a worldclass llm training data generator. \n",
    "          \n",
    "          # Task\n",
    "          You are generating q/a pairs for finetuning our own llm model.\n",
    "          create a json of questions and answers. \n",
    "          \n",
    "          # Specifics\n",
    "          Context relecance for the Q/A is really important, else our business will loose money on computation resources \n",
    "          \n",
    "          # Notes\n",
    "          Make sure to generate JSON format for the Q/A pairs\n",
    "          \n",
    "          \"\"\"  \n",
    "        },\n",
    "        {\n",
    "            \"role\": \"user\",\n",
    "            \"content\": \"(a) General. This section sets out the requirements for an escrow account that a lender establishes in connection with a federally related mortgage loan. It sets limits for escrow accounts using calculations based on monthly payments and disbursements within a calendar year. If an escrow account involves biweekly or any other payment period, the requirements in this section shall be modified accordingly. A Public Guidance Document entitled “Biweekly Payments - Example” provides examples of biweekly accounting and a Public Guidance Document entitled “Annual Escrow Account Disclosure Statement - Example” provides examples of a 3-year accounting cycle that may be used in accordance with paragraph (c)(9) of this section. A Public Guidance Document entitled “Consumer Disclosure for Voluntary Escrow Account Payments” provides a model disclosure format that originators and servicers are encouraged, but not required, to provide to consumers when the originator or servicer anticipates a substantial increase in disbursements from the escrow account after the first year of the loan. The disclosures in that model format may be combined with or included in the Initial Escrow Account Statement required in § 1024.17(g).\",\n",
    "        }\n",
    "    ],\n",
    "    model=\"gpt-3.5-turbo\",\n",
    "    response_format={ \"type\": \"json_object\" }\n",
    ")\n",
    "print(chat_completion.choices[0].message.content)"
   ]
  },
  {
   "cell_type": "markdown",
   "metadata": {},
   "source": []
  },
  {
   "cell_type": "code",
   "execution_count": null,
   "metadata": {},
   "outputs": [],
   "source": []
  }
 ],
 "metadata": {
  "kernelspec": {
   "display_name": ".venv",
   "language": "python",
   "name": "python3"
  },
  "language_info": {
   "codemirror_mode": {
    "name": "ipython",
    "version": 3
   },
   "file_extension": ".py",
   "mimetype": "text/x-python",
   "name": "python",
   "nbconvert_exporter": "python",
   "pygments_lexer": "ipython3",
   "version": "3.11.5"
  }
 },
 "nbformat": 4,
 "nbformat_minor": 2
}
