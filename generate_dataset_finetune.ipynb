{
 "cells": [
  {
   "cell_type": "markdown",
   "metadata": {},
   "source": [
    "## Generate Synthetic Dataset"
   ]
  },
  {
   "cell_type": "code",
   "execution_count": 1,
   "metadata": {},
   "outputs": [],
   "source": [
    "import requests\n",
    "from bs4 import BeautifulSoup\n",
    "import re\n",
    "\n",
    "# Fetch the page\n",
    "url = 'https://www.consumerfinance.gov/rules-policy/regulations/1024/17/'\n",
    "response = requests.get(url)\n",
    "html_content = response.text\n",
    "\n",
    "# Parse the HTML\n",
    "soup = BeautifulSoup(html_content, 'html.parser')\n",
    "\n",
    "# Extract all paragraphs\n",
    "paragraphs = soup.find_all('p')\n",
    "# Combine all text into a single string for easier processing\n",
    "full_text = '\\n'.join([p.get_text() for p in paragraphs])"
   ]
  },
  {
   "cell_type": "code",
   "execution_count": 2,
   "metadata": {},
   "outputs": [],
   "source": [
    "from langchain.text_splitter import RecursiveCharacterTextSplitter\n",
    "\n",
    "text_splitter = RecursiveCharacterTextSplitter(\n",
    "    chunk_size=1250, chunk_overlap=20)\n",
    "\n",
    "chunks = text_splitter.split_text(full_text)"
   ]
  },
  {
   "cell_type": "code",
   "execution_count": 3,
   "metadata": {},
   "outputs": [
    {
     "name": "stdout",
     "output_type": "stream",
     "text": [
      "Number of chunks:  41\n",
      "Chunk 1:  (a) General. This section sets out the requirements for an escrow account that a lender establishes in connection with a federally related mortgage loan. It sets limits for escrow accounts using calculations based on monthly payments and disbursements within a calendar year. If an escrow account involves biweekly or any other payment period, the requirements in this section shall be modified accordingly. A Public Guidance Document entitled “Biweekly Payments - Example” provides examples of biweekly accounting and a Public Guidance Document entitled “Annual Escrow Account Disclosure Statement - Example” provides examples of a 3-year accounting cycle that may be used in accordance with paragraph (c)(9) of this section. A Public Guidance Document entitled “Consumer Disclosure for Voluntary Escrow Account Payments” provides a model disclosure format that originators and servicers are encouraged, but not required, to provide to consumers when the originator or servicer anticipates a substantial increase in disbursements from the escrow account after the first year of the loan. The disclosures in that model format may be combined with or included in the Initial Escrow Account Statement required in § 1024.17(g).\n",
      "Chunk 2:  (b) Definitions. As used in this section:\n",
      "Aggregate (or) composite analysis, hereafter called aggregate analysis, means an accounting method a servicer uses in conducting an escrow account analysis by computing the sufficiency of escrow account funds by analyzing the account as a whole. Appendix E to this part sets forth examples of aggregate escrow account analyses.\n",
      "Annual escrow account statement means a statement containing all of the information set forth in § 1024.17(i).  As noted in § 1024.17(i),  a servicer shall submit an annual escrow account statement to the borrower within 30 calendar days of the end of the escrow account computation year, after conducting an escrow account analysis.\n",
      "Cushion or reserve (hereafter cushion) means funds that a servicer may require a borrower to pay into an escrow account to cover unanticipated disbursements or disbursements made before the borrower's payments are available in the account, as limited by § 1024.17(c). \n",
      "Deficiency is the amount of a negative balance in an escrow account. As noted in § 1024.17(f),  if a servicer advances funds for a borrower, then the servicer must perform an escrow account analysis before seeking repayment of the deficiency.\n"
     ]
    }
   ],
   "source": [
    "print(\"Number of chunks: \", len(chunks))\n",
    "print(\"Chunk 1: \", chunks[0])\n",
    "print(\"Chunk 2: \", chunks[1])"
   ]
  },
  {
   "cell_type": "code",
   "execution_count": 181,
   "metadata": {},
   "outputs": [],
   "source": [
    "# save the chunks to a json file for future tracability\n",
    "import json\n",
    "with open('chunks.json', 'w') as f:\n",
    "    json.dump(chunks, f)"
   ]
  },
  {
   "cell_type": "code",
   "execution_count": 4,
   "metadata": {},
   "outputs": [],
   "source": [
    "from openai import OpenAI\n",
    "from utility.utils import get_openai_api_key\n",
    "\n",
    "OpenAI.api_key = get_openai_api_key()\n",
    "client = OpenAI()"
   ]
  },
  {
   "cell_type": "code",
   "execution_count": 5,
   "metadata": {},
   "outputs": [],
   "source": [
    "SYSTEM_PROMPT = \"\"\"\n",
    "# Role\n",
    "you are a worldclass llm training data generator. \n",
    "\n",
    "# Task\n",
    "You are generating q/a pairs for finetuning our own llm model.\n",
    "create a json of questions and answers. \n",
    "\n",
    "# Specifics\n",
    "Context relecance for the Q/A is really important, else our business will loose money on computation resources \n",
    "\n",
    "         \n",
    "# Example format:\n",
    "{ data: [\n",
    "    {\n",
    "        \"q\": <question>,\n",
    "        \"a\": <answer>\n",
    "    },\n",
    "    {\n",
    "        \"q\": <question>,\n",
    "        \"a\": <answer>\n",
    "    }, ...\n",
    "]}\n",
    "\n",
    "# Notes\n",
    "Make sure to generate JSON format for the Q/A pairs\n",
    "Generate 10 Q/A pairs\n",
    "          \n",
    "\"\"\""
   ]
  },
  {
   "cell_type": "code",
   "execution_count": 9,
   "metadata": {},
   "outputs": [],
   "source": [
    "def generate_qa_pairs(system_prompt, text):\n",
    "\n",
    "    chat_completion = client.chat.completions.create(\n",
    "        messages=[\n",
    "            {\n",
    "                \"role\": \"system\",\n",
    "                \"content\": system_prompt\n",
    "            },\n",
    "            {\n",
    "                \"role\": \"user\",\n",
    "                \"content\": text\n",
    "            }\n",
    "        ],\n",
    "        model=\"gpt-3.5-turbo\",\n",
    "        response_format={\"type\": \"json_object\"}\n",
    "    )\n",
    "\n",
    "    return chat_completion.choices[0].message.content"
   ]
  },
  {
   "cell_type": "markdown",
   "metadata": {},
   "source": [
    "### test out the generation"
   ]
  },
  {
   "cell_type": "code",
   "execution_count": 10,
   "metadata": {},
   "outputs": [
    {
     "name": "stdout",
     "output_type": "stream",
     "text": [
      "{\n",
      "    \"data\": [\n",
      "        {\n",
      "            \"q\": \"What are the requirements set out for an escrow account established in connection with a federally related mortgage loan?\",\n",
      "            \"a\": \"The requirements for an escrow account established in connection with a federally related mortgage loan include limits based on monthly payments and disbursements within a calendar year, with modifications for various payment periods.\"\n",
      "        },\n",
      "        {\n",
      "            \"q\": \"How are limits for escrow accounts calculated in relation to monthly payments and disbursements?\",\n",
      "            \"a\": \"Escrow account limits are calculated based on monthly payments and disbursements within a calendar year for federally related mortgage loans.\"\n",
      "        },\n",
      "        {\n",
      "            \"q\": \"What guidance documents provide examples related to biweekly payments and annual escrow account disclosures?\",\n",
      "            \"a\": \"The Public Guidance Document entitled 'Biweekly Payments - Example' provides examples of biweekly accounting, while the 'Annual Escrow Account Disclosure Statement - Example' offers examples of a 3-year accounting cycle that may be utilized.\"\n",
      "        },\n",
      "        {\n",
      "            \"q\": \"What is the purpose of the 'Consumer Disclosure for Voluntary Escrow Account Payments' guidance document?\",\n",
      "            \"a\": \"The 'Consumer Disclosure for Voluntary Escrow Account Payments' document provides a model disclosure format for originators and servicers to use when anticipating a substantial increase in disbursements from the escrow account after the first year of the loan.\"\n",
      "        },\n",
      "        {\n",
      "            \"q\": \"Are originators and servicers required to provide the model disclosure format from the 'Consumer Disclosure for Voluntary Escrow Account Payments' document?\",\n",
      "            \"a\": \"Originators and servicers are encouraged, but not obligated, to provide the model disclosure format from the 'Consumer Disclosure for Voluntary Escrow Account Payments' document to consumers.\"\n",
      "        },\n",
      "        {\n",
      "            \"q\": \"Can disclosures from the 'Consumer Disclosure for Voluntary Escrow Account Payments' document be included in the Initial Escrow Account Statement?\",\n",
      "            \"a\": \"Yes, the disclosures from the 'Consumer Disclosure for Voluntary Escrow Account Payments' document may be combined with or included in the Initial Escrow Account Statement required by § 1024.17(g).\"\n",
      "        },\n",
      "        {\n",
      "            \"q\": \"What types of examples are provided in the 'Biweekly Payments - Example' guidance document?\",\n",
      "            \"a\": \"The 'Biweekly Payments - Example' document offers examples of biweekly accounting for escrow accounts.\"\n",
      "        },\n",
      "        {\n",
      "            \"q\": \"How long of an accounting cycle is exemplified in the 'Annual Escrow Account Disclosure Statement - Example' document?\",\n",
      "            \"a\": \"The 'Annual Escrow Account Disclosure Statement - Example' provides examples of a 3-year accounting cycle that can be used in accordance with paragraph (c)(9) of the requirements section.\"\n",
      "        },\n",
      "        {\n",
      "            \"q\": \"When should the model disclosure format from the 'Consumer Disclosure for Voluntary Escrow Account Payments' document be provided to consumers?\",\n",
      "            \"a\": \"The model disclosure format from the 'Consumer Disclosure for Voluntary Escrow Account Payments' document should be provided to consumers when originators or servicers anticipate a significant increase in escrow account disbursements after the first year of the loan.\"\n",
      "        },\n",
      "        {\n",
      "            \"q\": \"Is it mandatory for originators and servicers to use the model format from the 'Consumer Disclosure for Voluntary Escrow Account Payments' document?\",\n",
      "            \"a\": \"No, using the model disclosure format from the 'Consumer Disclosure for Voluntary Escrow Account Payments' document is optional for originators and servicers.\"\n",
      "        }\n",
      "    ]\n",
      "}\n"
     ]
    }
   ],
   "source": [
    "# lets do a test run\n",
    "input = \"(a) General. This section sets out the requirements for an escrow account that a lender establishes in connection with a federally related mortgage loan. It sets limits for escrow accounts using calculations based on monthly payments and disbursements within a calendar year. If an escrow account involves biweekly or any other payment period, the requirements in this section shall be modified accordingly. A Public Guidance Document entitled “Biweekly Payments - Example” provides examples of biweekly accounting and a Public Guidance Document entitled “Annual Escrow Account Disclosure Statement - Example” provides examples of a 3-year accounting cycle that may be used in accordance with paragraph (c)(9) of this section. A Public Guidance Document entitled “Consumer Disclosure for Voluntary Escrow Account Payments” provides a model disclosure format that originators and servicers are encouraged, but not required, to provide to consumers when the originator or servicer anticipates a substantial increase in disbursements from the escrow account after the first year of the loan. The disclosures in that model format may be combined with or included in the Initial Escrow Account Statement required in § 1024.17(g).\"\n",
    "qa_pairs = generate_qa_pairs(SYSTEM_PROMPT, input)\n",
    "qa_pairs"
   ]
  },
  {
   "cell_type": "markdown",
   "metadata": {},
   "source": []
  },
  {
   "cell_type": "markdown",
   "metadata": {},
   "source": [
    "Looking at the chunk and and our generation of 10 q/a pairs data for each chunk, we will effectively have about 410 q/a pairs from the 41 chunks. This is a good start for the training data. We can always add more data later on."
   ]
  },
  {
   "cell_type": "code",
   "execution_count": 28,
   "metadata": {},
   "outputs": [],
   "source": [
    "qa_chunks = {}\n",
    "qa_chunks[\"data\"] = []"
   ]
  },
  {
   "cell_type": "code",
   "execution_count": null,
   "metadata": {},
   "outputs": [],
   "source": [
    "# WARNING: This code will take a long time to run (about 7 min) and will use up a lot of OpenAI credits\n",
    "# WARNING: This code will rewrite the existing qa_chunks.json file\n",
    "import json\n",
    "count = 0\n",
    "last_chunk__ending_index= 0\n",
    "for chunk in chunks:\n",
    "    qa_pairs = generate_qa_pairs(SYSTEM_PROMPT, chunk)\n",
    "    if isinstance(qa_pairs, str):\n",
    "        qa_pairs = json.loads(qa_pairs)\n",
    "    qa_chunk = {\n",
    "                \"id\": count,\n",
    "                \"metadata\":{\n",
    "                    \"text\": chunk,\n",
    "                    \"length\": len(chunk),\n",
    "                    \"start_index\": last_chunk__ending_index,\n",
    "                    \"end_index\": last_chunk__ending_index + len(chunk)\n",
    "                }, \n",
    "                \"data\": qa_pairs.get('data')}\n",
    "    count+=1\n",
    "    last_chunk__ending_index += len(chunk)\n",
    "    qa_chunks.get('data').append(qa_chunk)\n",
    "    \n",
    "    # save qa_chunks to a json file so we dont loose the data\n",
    "    with open('qa_chunks.json', 'w') as f:\n",
    "        json.dump(qa_chunks, f)\n",
    "    "
   ]
  },
  {
   "cell_type": "code",
   "execution_count": 125,
   "metadata": {},
   "outputs": [
    {
     "name": "stdout",
     "output_type": "stream",
     "text": [
      "Total Q/A pairs generated:  368\n",
      "Last chunk id:  40\n"
     ]
    }
   ],
   "source": [
    "# read the qa_chunks from the json file\n",
    "with open('qa_chunks.json') as f:\n",
    "    generated_qa_chunks = json.load(f)\n",
    "\n",
    "total_qa_generated = 0\n",
    "for chunk in generated_qa_chunks.get('data'):\n",
    "    total_qa_generated += len(chunk.get('data'))\n",
    "print(\"Total Q/A pairs generated: \", total_qa_generated)\n",
    "print(\"Last chunk id: \", generated_qa_chunks.get('data')[-1].get('id'))"
   ]
  },
  {
   "cell_type": "code",
   "execution_count": 124,
   "metadata": {},
   "outputs": [
    {
     "name": "stdout",
     "output_type": "stream",
     "text": [
      "Chunk id:  0 Q/A pairs:  10\n",
      "Chunk id:  1 Q/A pairs:  4\n",
      "Chunk id:  2 Q/A pairs:  10\n",
      "Chunk id:  3 Q/A pairs:  10\n",
      "Chunk id:  4 Q/A pairs:  6\n",
      "Chunk id:  5 Q/A pairs:  10\n",
      "Chunk id:  6 Q/A pairs:  10\n",
      "Chunk id:  7 Q/A pairs:  3\n",
      "Chunk id:  8 Q/A pairs:  10\n",
      "Chunk id:  9 Q/A pairs:  10\n",
      "Chunk id:  10 Q/A pairs:  10\n",
      "Chunk id:  11 Q/A pairs:  3\n",
      "Chunk id:  12 Q/A pairs:  10\n",
      "Chunk id:  13 Q/A pairs:  6\n",
      "Chunk id:  14 Q/A pairs:  10\n",
      "Chunk id:  15 Q/A pairs:  10\n",
      "Chunk id:  16 Q/A pairs:  5\n",
      "Chunk id:  17 Q/A pairs:  6\n",
      "Chunk id:  18 Q/A pairs:  5\n",
      "Chunk id:  19 Q/A pairs:  10\n",
      "Chunk id:  20 Q/A pairs:  10\n",
      "Chunk id:  21 Q/A pairs:  10\n",
      "Chunk id:  22 Q/A pairs:  10\n",
      "Chunk id:  23 Q/A pairs:  10\n",
      "Chunk id:  24 Q/A pairs:  10\n",
      "Chunk id:  25 Q/A pairs:  10\n",
      "Chunk id:  26 Q/A pairs:  10\n",
      "Chunk id:  27 Q/A pairs:  10\n",
      "Chunk id:  28 Q/A pairs:  10\n",
      "Chunk id:  29 Q/A pairs:  10\n",
      "Chunk id:  30 Q/A pairs:  10\n",
      "Chunk id:  31 Q/A pairs:  10\n",
      "Chunk id:  32 Q/A pairs:  10\n",
      "Chunk id:  33 Q/A pairs:  10\n",
      "Chunk id:  34 Q/A pairs:  10\n",
      "Chunk id:  35 Q/A pairs:  10\n",
      "Chunk id:  36 Q/A pairs:  10\n",
      "Chunk id:  37 Q/A pairs:  10\n",
      "Chunk id:  38 Q/A pairs:  10\n",
      "Chunk id:  39 Q/A pairs:  10\n",
      "Chunk id:  40 Q/A pairs:  10\n"
     ]
    }
   ],
   "source": [
    "# since we didnt get expected number of Q/A pairs, lets see what happened\n",
    "for chunk in qa_chunks.get('data'):\n",
    "    print(\"Chunk id: \", chunk.get('id'), \"Q/A pairs: \", len(chunk.get('data')))"
   ]
  },
  {
   "cell_type": "code",
   "execution_count": 106,
   "metadata": {},
   "outputs": [
    {
     "data": {
      "text/plain": [
       "{'id': 1,\n",
       " 'metadata': {'text': \"(b) Definitions. As used in this section:\\nAggregate (or) composite analysis, hereafter called aggregate analysis, means an accounting method a servicer uses in conducting an escrow account analysis by computing the sufficiency of escrow account funds by analyzing the account as a whole. Appendix E to this part sets forth examples of aggregate escrow account analyses.\\nAnnual escrow account statement means a statement containing all of the information set forth in §\\xa01024.17(i).  As noted in §\\xa01024.17(i),  a servicer shall submit an annual escrow account statement to the borrower within 30 calendar days of the end of the escrow account computation year, after conducting an escrow account analysis.\\nCushion or reserve (hereafter cushion) means funds that a servicer may require a borrower to pay into an escrow account to cover unanticipated disbursements or disbursements made before the borrower's payments are available in the account, as limited by §\\xa01024.17(c). \\nDeficiency is the amount of a negative balance in an escrow account. As noted in §\\xa01024.17(f),  if a servicer advances funds for a borrower, then the servicer must perform an escrow account analysis before seeking repayment of the deficiency.\",\n",
       "  'length': 1215,\n",
       "  'start_index': 1215,\n",
       "  'end_index': 2430},\n",
       " 'data': [{'q': 'What is the definition of Aggregate analysis in the context of escrow account analysis?',\n",
       "   'a': 'Aggregate analysis refers to an accounting method used by a servicer to analyze the sufficiency of escrow account funds by considering the account as a whole.'},\n",
       "  {'q': 'When should a servicer provide an Annual escrow account statement to the borrower?',\n",
       "   'a': 'A servicer must provide an Annual escrow account statement to the borrower within 30 calendar days of the end of the escrow account computation year, as per § 1024.17(i).'},\n",
       "  {'q': \"What does the term 'Cushion or reserve (cushion)' mean in the context of escrow accounts?\",\n",
       "   'a': \"Cushion or reserve (cushion) refers to funds that a servicer may require a borrower to pay into an escrow account to cover unexpected disbursements or those made before the borrower's payments are available in the account, as limited by § 1024.17(c).\"},\n",
       "  {'q': 'How is Deficiency defined with regard to an escrow account?',\n",
       "   'a': 'Deficiency is the amount of a negative balance in an escrow account. If a servicer advances funds for a borrower, they must conduct an escrow account analysis before seeking repayment of the deficiency, as per § 1024.17(f).'}]}"
      ]
     },
     "execution_count": 106,
     "metadata": {},
     "output_type": "execute_result"
    }
   ],
   "source": [
    "qa_chunks.get('data')[1]"
   ]
  },
  {
   "cell_type": "markdown",
   "metadata": {},
   "source": [
    "## Generating additional data\n",
    "\n",
    "The generated q/a pairs are less than 400, so we will generate more data (we need atlease 1000 sample points).\n",
    "\n",
    "This time rather then using GPT-3.5 turbo we can use a smaller model as we are not trying to create Q/A from a piece of text, rather we are just generating a similar q/a pairs using the already generated q/a pair with more capable models.\n",
    "\n",
    "for this part we will use llama3-8b-instruct model for the generation of the q/a pairs.\n",
    "\n",
    "lets pull the model using ollama\n",
    "```ollama pull llama3```"
   ]
  },
  {
   "cell_type": "code",
   "execution_count": 36,
   "metadata": {},
   "outputs": [
    {
     "name": "stdout",
     "output_type": "stream",
     "text": [
      "\u001b[?25lpulling manifest ⠋ \u001b[?25h\u001b[?25l\u001b[2K\u001b[1Gpulling manifest ⠙ \u001b[?25h\u001b[?25l\u001b[2K\u001b[1Gpulling manifest ⠹ \u001b[?25h\u001b[?25l\u001b[2K\u001b[1Gpulling manifest ⠸ \u001b[?25h\u001b[?25l\u001b[2K\u001b[1Gpulling manifest ⠼ \u001b[?25h\u001b[?25l\u001b[2K\u001b[1Gpulling manifest ⠴ \u001b[?25h\u001b[?25l\u001b[2K\u001b[1Gpulling manifest ⠦ \u001b[?25h\u001b[?25l\u001b[2K\u001b[1Gpulling manifest ⠧ \u001b[?25h\u001b[?25l\u001b[2K\u001b[1Gpulling manifest ⠇ \u001b[?25h\u001b[?25l\u001b[2K\u001b[1Gpulling manifest \n",
      "pulling 00e1317cbf74... 100% ▕████████████████▏ 4.7 GB                         \n",
      "pulling 4fa551d4f938... 100% ▕████████████████▏  12 KB                         \n",
      "pulling 8ab4849b038c... 100% ▕████████████████▏  254 B                         \n",
      "pulling 577073ffcc6c... 100% ▕████████████████▏  110 B                         \n",
      "pulling ad1518640c43... 100% ▕████████████████▏  483 B                         \n",
      "verifying sha256 digest ⠋ \u001b[?25h\u001b[?25l\u001b[2K\u001b[1G\u001b[A\u001b[2K\u001b[1G\u001b[A\u001b[2K\u001b[1G\u001b[A\u001b[2K\u001b[1G\u001b[A\u001b[2K\u001b[1G\u001b[A\u001b[2K\u001b[1G\u001b[A\u001b[2K\u001b[1Gpulling manifest \n",
      "pulling 00e1317cbf74... 100% ▕████████████████▏ 4.7 GB                         \n",
      "pulling 4fa551d4f938... 100% ▕████████████████▏  12 KB                         \n",
      "pulling 8ab4849b038c... 100% ▕████████████████▏  254 B                         \n",
      "pulling 577073ffcc6c... 100% ▕████████████████▏  110 B                         \n",
      "pulling ad1518640c43... 100% ▕████████████████▏  483 B                         \n",
      "verifying sha256 digest ⠙ \u001b[?25h\u001b[?25l\u001b[2K\u001b[1G\u001b[A\u001b[2K\u001b[1G\u001b[A\u001b[2K\u001b[1G\u001b[A\u001b[2K\u001b[1G\u001b[A\u001b[2K\u001b[1G\u001b[A\u001b[2K\u001b[1G\u001b[A\u001b[2K\u001b[1Gpulling manifest \n",
      "pulling 00e1317cbf74... 100% ▕████████████████▏ 4.7 GB                         \n",
      "pulling 4fa551d4f938... 100% ▕████████████████▏  12 KB                         \n",
      "pulling 8ab4849b038c... 100% ▕████████████████▏  254 B                         \n",
      "pulling 577073ffcc6c... 100% ▕████████████████▏  110 B                         \n",
      "pulling ad1518640c43... 100% ▕████████████████▏  483 B                         \n",
      "verifying sha256 digest ⠹ \u001b[?25h\u001b[?25l\u001b[2K\u001b[1G\u001b[A\u001b[2K\u001b[1G\u001b[A\u001b[2K\u001b[1G\u001b[A\u001b[2K\u001b[1G\u001b[A\u001b[2K\u001b[1G\u001b[A\u001b[2K\u001b[1G\u001b[A\u001b[2K\u001b[1Gpulling manifest \n",
      "pulling 00e1317cbf74... 100% ▕████████████████▏ 4.7 GB                         \n",
      "pulling 4fa551d4f938... 100% ▕████████████████▏  12 KB                         \n",
      "pulling 8ab4849b038c... 100% ▕████████████████▏  254 B                         \n",
      "pulling 577073ffcc6c... 100% ▕████████████████▏  110 B                         \n",
      "pulling ad1518640c43... 100% ▕████████████████▏  483 B                         \n",
      "verifying sha256 digest ⠸ \u001b[?25h\u001b[?25l\u001b[2K\u001b[1G\u001b[A\u001b[2K\u001b[1G\u001b[A\u001b[2K\u001b[1G\u001b[A\u001b[2K\u001b[1G\u001b[A\u001b[2K\u001b[1G\u001b[A\u001b[2K\u001b[1G\u001b[A\u001b[2K\u001b[1Gpulling manifest \n",
      "pulling 00e1317cbf74... 100% ▕████████████████▏ 4.7 GB                         \n",
      "pulling 4fa551d4f938... 100% ▕████████████████▏  12 KB                         \n",
      "pulling 8ab4849b038c... 100% ▕████████████████▏  254 B                         \n",
      "pulling 577073ffcc6c... 100% ▕████████████████▏  110 B                         \n",
      "pulling ad1518640c43... 100% ▕████████████████▏  483 B                         \n",
      "verifying sha256 digest ⠼ \u001b[?25h\u001b[?25l\u001b[2K\u001b[1G\u001b[A\u001b[2K\u001b[1G\u001b[A\u001b[2K\u001b[1G\u001b[A\u001b[2K\u001b[1G\u001b[A\u001b[2K\u001b[1G\u001b[A\u001b[2K\u001b[1G\u001b[A\u001b[2K\u001b[1Gpulling manifest \n",
      "pulling 00e1317cbf74... 100% ▕████████████████▏ 4.7 GB                         \n",
      "pulling 4fa551d4f938... 100% ▕████████████████▏  12 KB                         \n",
      "pulling 8ab4849b038c... 100% ▕████████████████▏  254 B                         \n",
      "pulling 577073ffcc6c... 100% ▕████████████████▏  110 B                         \n",
      "pulling ad1518640c43... 100% ▕████████████████▏  483 B                         \n",
      "verifying sha256 digest ⠴ \u001b[?25h\u001b[?25l\u001b[2K\u001b[1G\u001b[A\u001b[2K\u001b[1G\u001b[A\u001b[2K\u001b[1G\u001b[A\u001b[2K\u001b[1G\u001b[A\u001b[2K\u001b[1G\u001b[A\u001b[2K\u001b[1G\u001b[A\u001b[2K\u001b[1Gpulling manifest \n",
      "pulling 00e1317cbf74... 100% ▕████████████████▏ 4.7 GB                         \n",
      "pulling 4fa551d4f938... 100% ▕████████████████▏  12 KB                         \n",
      "pulling 8ab4849b038c... 100% ▕████████████████▏  254 B                         \n",
      "pulling 577073ffcc6c... 100% ▕████████████████▏  110 B                         \n",
      "pulling ad1518640c43... 100% ▕████████████████▏  483 B                         \n",
      "verifying sha256 digest ⠦ \u001b[?25h\u001b[?25l\u001b[2K\u001b[1G\u001b[A\u001b[2K\u001b[1G\u001b[A\u001b[2K\u001b[1G\u001b[A\u001b[2K\u001b[1G\u001b[A\u001b[2K\u001b[1G\u001b[A\u001b[2K\u001b[1G\u001b[A\u001b[2K\u001b[1Gpulling manifest \n",
      "pulling 00e1317cbf74... 100% ▕████████████████▏ 4.7 GB                         \n",
      "pulling 4fa551d4f938... 100% ▕████████████████▏  12 KB                         \n",
      "pulling 8ab4849b038c... 100% ▕████████████████▏  254 B                         \n",
      "pulling 577073ffcc6c... 100% ▕████████████████▏  110 B                         \n",
      "pulling ad1518640c43... 100% ▕████████████████▏  483 B                         \n",
      "verifying sha256 digest ⠧ \u001b[?25h\u001b[?25l\u001b[2K\u001b[1G\u001b[A\u001b[2K\u001b[1G\u001b[A\u001b[2K\u001b[1G\u001b[A\u001b[2K\u001b[1G\u001b[A\u001b[2K\u001b[1G\u001b[A\u001b[2K\u001b[1G\u001b[A\u001b[2K\u001b[1Gpulling manifest \n",
      "pulling 00e1317cbf74... 100% ▕████████████████▏ 4.7 GB                         \n",
      "pulling 4fa551d4f938... 100% ▕████████████████▏  12 KB                         \n",
      "pulling 8ab4849b038c... 100% ▕████████████████▏  254 B                         \n",
      "pulling 577073ffcc6c... 100% ▕████████████████▏  110 B                         \n",
      "pulling ad1518640c43... 100% ▕████████████████▏  483 B                         \n",
      "verifying sha256 digest ⠇ \u001b[?25h\u001b[?25l\u001b[2K\u001b[1G\u001b[A\u001b[2K\u001b[1G\u001b[A\u001b[2K\u001b[1G\u001b[A\u001b[2K\u001b[1G\u001b[A\u001b[2K\u001b[1G\u001b[A\u001b[2K\u001b[1G\u001b[A\u001b[2K\u001b[1Gpulling manifest \n",
      "pulling 00e1317cbf74... 100% ▕████████████████▏ 4.7 GB                         \n",
      "pulling 4fa551d4f938... 100% ▕████████████████▏  12 KB                         \n",
      "pulling 8ab4849b038c... 100% ▕████████████████▏  254 B                         \n",
      "pulling 577073ffcc6c... 100% ▕████████████████▏  110 B                         \n",
      "pulling ad1518640c43... 100% ▕████████████████▏  483 B                         \n",
      "verifying sha256 digest ⠏ \u001b[?25h\u001b[?25l\u001b[2K\u001b[1G\u001b[A\u001b[2K\u001b[1G\u001b[A\u001b[2K\u001b[1G\u001b[A\u001b[2K\u001b[1G\u001b[A\u001b[2K\u001b[1G\u001b[A\u001b[2K\u001b[1G\u001b[A\u001b[2K\u001b[1Gpulling manifest \n",
      "pulling 00e1317cbf74... 100% ▕████████████████▏ 4.7 GB                         \n",
      "pulling 4fa551d4f938... 100% ▕████████████████▏  12 KB                         \n",
      "pulling 8ab4849b038c... 100% ▕████████████████▏  254 B                         \n",
      "pulling 577073ffcc6c... 100% ▕████████████████▏  110 B                         \n",
      "pulling ad1518640c43... 100% ▕████████████████▏  483 B                         \n",
      "verifying sha256 digest ⠋ \u001b[?25h\u001b[?25l\u001b[2K\u001b[1G\u001b[A\u001b[2K\u001b[1G\u001b[A\u001b[2K\u001b[1G\u001b[A\u001b[2K\u001b[1G\u001b[A\u001b[2K\u001b[1G\u001b[A\u001b[2K\u001b[1G\u001b[A\u001b[2K\u001b[1Gpulling manifest \n",
      "pulling 00e1317cbf74... 100% ▕████████████████▏ 4.7 GB                         \n",
      "pulling 4fa551d4f938... 100% ▕████████████████▏  12 KB                         \n",
      "pulling 8ab4849b038c... 100% ▕████████████████▏  254 B                         \n",
      "pulling 577073ffcc6c... 100% ▕████████████████▏  110 B                         \n",
      "pulling ad1518640c43... 100% ▕████████████████▏  483 B                         \n",
      "verifying sha256 digest ⠙ \u001b[?25h\u001b[?25l\u001b[2K\u001b[1G\u001b[A\u001b[2K\u001b[1G\u001b[A\u001b[2K\u001b[1G\u001b[A\u001b[2K\u001b[1G\u001b[A\u001b[2K\u001b[1G\u001b[A\u001b[2K\u001b[1G\u001b[A\u001b[2K\u001b[1Gpulling manifest \n",
      "pulling 00e1317cbf74... 100% ▕████████████████▏ 4.7 GB                         \n",
      "pulling 4fa551d4f938... 100% ▕████████████████▏  12 KB                         \n",
      "pulling 8ab4849b038c... 100% ▕████████████████▏  254 B                         \n",
      "pulling 577073ffcc6c... 100% ▕████████████████▏  110 B                         \n",
      "pulling ad1518640c43... 100% ▕████████████████▏  483 B                         \n",
      "verifying sha256 digest ⠹ \u001b[?25h\u001b[?25l\u001b[2K\u001b[1G\u001b[A\u001b[2K\u001b[1G\u001b[A\u001b[2K\u001b[1G\u001b[A\u001b[2K\u001b[1G\u001b[A\u001b[2K\u001b[1G\u001b[A\u001b[2K\u001b[1G\u001b[A\u001b[2K\u001b[1Gpulling manifest \n",
      "pulling 00e1317cbf74... 100% ▕████████████████▏ 4.7 GB                         \n",
      "pulling 4fa551d4f938... 100% ▕████████████████▏  12 KB                         \n",
      "pulling 8ab4849b038c... 100% ▕████████████████▏  254 B                         \n",
      "pulling 577073ffcc6c... 100% ▕████████████████▏  110 B                         \n",
      "pulling ad1518640c43... 100% ▕████████████████▏  483 B                         \n",
      "verifying sha256 digest ⠸ \u001b[?25h\u001b[?25l\u001b[2K\u001b[1G\u001b[A\u001b[2K\u001b[1G\u001b[A\u001b[2K\u001b[1G\u001b[A\u001b[2K\u001b[1G\u001b[A\u001b[2K\u001b[1G\u001b[A\u001b[2K\u001b[1G\u001b[A\u001b[2K\u001b[1Gpulling manifest \n",
      "pulling 00e1317cbf74... 100% ▕████████████████▏ 4.7 GB                         \n",
      "pulling 4fa551d4f938... 100% ▕████████████████▏  12 KB                         \n",
      "pulling 8ab4849b038c... 100% ▕████████████████▏  254 B                         \n",
      "pulling 577073ffcc6c... 100% ▕████████████████▏  110 B                         \n",
      "pulling ad1518640c43... 100% ▕████████████████▏  483 B                         \n",
      "verifying sha256 digest ⠼ \u001b[?25h\u001b[?25l\u001b[2K\u001b[1G\u001b[A\u001b[2K\u001b[1G\u001b[A\u001b[2K\u001b[1G\u001b[A\u001b[2K\u001b[1G\u001b[A\u001b[2K\u001b[1G\u001b[A\u001b[2K\u001b[1G\u001b[A\u001b[2K\u001b[1Gpulling manifest \n",
      "pulling 00e1317cbf74... 100% ▕████████████████▏ 4.7 GB                         \n",
      "pulling 4fa551d4f938... 100% ▕████████████████▏  12 KB                         \n",
      "pulling 8ab4849b038c... 100% ▕████████████████▏  254 B                         \n",
      "pulling 577073ffcc6c... 100% ▕████████████████▏  110 B                         \n",
      "pulling ad1518640c43... 100% ▕████████████████▏  483 B                         \n",
      "verifying sha256 digest ⠴ \u001b[?25h\u001b[?25l\u001b[2K\u001b[1G\u001b[A\u001b[2K\u001b[1G\u001b[A\u001b[2K\u001b[1G\u001b[A\u001b[2K\u001b[1G\u001b[A\u001b[2K\u001b[1G\u001b[A\u001b[2K\u001b[1G\u001b[A\u001b[2K\u001b[1Gpulling manifest \n",
      "pulling 00e1317cbf74... 100% ▕████████████████▏ 4.7 GB                         \n",
      "pulling 4fa551d4f938... 100% ▕████████████████▏  12 KB                         \n",
      "pulling 8ab4849b038c... 100% ▕████████████████▏  254 B                         \n",
      "pulling 577073ffcc6c... 100% ▕████████████████▏  110 B                         \n",
      "pulling ad1518640c43... 100% ▕████████████████▏  483 B                         \n",
      "verifying sha256 digest ⠦ \u001b[?25h\u001b[?25l\u001b[2K\u001b[1G\u001b[A\u001b[2K\u001b[1G\u001b[A\u001b[2K\u001b[1G\u001b[A\u001b[2K\u001b[1G\u001b[A\u001b[2K\u001b[1G\u001b[A\u001b[2K\u001b[1G\u001b[A\u001b[2K\u001b[1Gpulling manifest \n",
      "pulling 00e1317cbf74... 100% ▕████████████████▏ 4.7 GB                         \n",
      "pulling 4fa551d4f938... 100% ▕████████████████▏  12 KB                         \n",
      "pulling 8ab4849b038c... 100% ▕████████████████▏  254 B                         \n",
      "pulling 577073ffcc6c... 100% ▕████████████████▏  110 B                         \n",
      "pulling ad1518640c43... 100% ▕████████████████▏  483 B                         \n",
      "verifying sha256 digest ⠧ \u001b[?25h\u001b[?25l\u001b[2K\u001b[1G\u001b[A\u001b[2K\u001b[1G\u001b[A\u001b[2K\u001b[1G\u001b[A\u001b[2K\u001b[1G\u001b[A\u001b[2K\u001b[1G\u001b[A\u001b[2K\u001b[1G\u001b[A\u001b[2K\u001b[1Gpulling manifest \n",
      "pulling 00e1317cbf74... 100% ▕████████████████▏ 4.7 GB                         \n",
      "pulling 4fa551d4f938... 100% ▕████████████████▏  12 KB                         \n",
      "pulling 8ab4849b038c... 100% ▕████████████████▏  254 B                         \n",
      "pulling 577073ffcc6c... 100% ▕████████████████▏  110 B                         \n",
      "pulling ad1518640c43... 100% ▕████████████████▏  483 B                         \n",
      "verifying sha256 digest ⠇ \u001b[?25h\u001b[?25l\u001b[2K\u001b[1G\u001b[A\u001b[2K\u001b[1G\u001b[A\u001b[2K\u001b[1G\u001b[A\u001b[2K\u001b[1G\u001b[A\u001b[2K\u001b[1G\u001b[A\u001b[2K\u001b[1G\u001b[A\u001b[2K\u001b[1Gpulling manifest \n",
      "pulling 00e1317cbf74... 100% ▕████████████████▏ 4.7 GB                         \n",
      "pulling 4fa551d4f938... 100% ▕████████████████▏  12 KB                         \n",
      "pulling 8ab4849b038c... 100% ▕████████████████▏  254 B                         \n",
      "pulling 577073ffcc6c... 100% ▕████████████████▏  110 B                         \n",
      "pulling ad1518640c43... 100% ▕████████████████▏  483 B                         \n",
      "verifying sha256 digest ⠏ \u001b[?25h\u001b[?25l\u001b[2K\u001b[1G\u001b[A\u001b[2K\u001b[1G\u001b[A\u001b[2K\u001b[1G\u001b[A\u001b[2K\u001b[1G\u001b[A\u001b[2K\u001b[1G\u001b[A\u001b[2K\u001b[1G\u001b[A\u001b[2K\u001b[1Gpulling manifest \n",
      "pulling 00e1317cbf74... 100% ▕████████████████▏ 4.7 GB                         \n",
      "pulling 4fa551d4f938... 100% ▕████████████████▏  12 KB                         \n",
      "pulling 8ab4849b038c... 100% ▕████████████████▏  254 B                         \n",
      "pulling 577073ffcc6c... 100% ▕████████████████▏  110 B                         \n",
      "pulling ad1518640c43... 100% ▕████████████████▏  483 B                         \n",
      "verifying sha256 digest ⠋ \u001b[?25h\u001b[?25l\u001b[2K\u001b[1G\u001b[A\u001b[2K\u001b[1G\u001b[A\u001b[2K\u001b[1G\u001b[A\u001b[2K\u001b[1G\u001b[A\u001b[2K\u001b[1G\u001b[A\u001b[2K\u001b[1G\u001b[A\u001b[2K\u001b[1Gpulling manifest \n",
      "pulling 00e1317cbf74... 100% ▕████████████████▏ 4.7 GB                         \n",
      "pulling 4fa551d4f938... 100% ▕████████████████▏  12 KB                         \n",
      "pulling 8ab4849b038c... 100% ▕████████████████▏  254 B                         \n",
      "pulling 577073ffcc6c... 100% ▕████████████████▏  110 B                         \n",
      "pulling ad1518640c43... 100% ▕████████████████▏  483 B                         \n",
      "verifying sha256 digest ⠙ \u001b[?25h\u001b[?25l\u001b[2K\u001b[1G\u001b[A\u001b[2K\u001b[1G\u001b[A\u001b[2K\u001b[1G\u001b[A\u001b[2K\u001b[1G\u001b[A\u001b[2K\u001b[1G\u001b[A\u001b[2K\u001b[1G\u001b[A\u001b[2K\u001b[1Gpulling manifest \n",
      "pulling 00e1317cbf74... 100% ▕████████████████▏ 4.7 GB                         \n",
      "pulling 4fa551d4f938... 100% ▕████████████████▏  12 KB                         \n",
      "pulling 8ab4849b038c... 100% ▕████████████████▏  254 B                         \n",
      "pulling 577073ffcc6c... 100% ▕████████████████▏  110 B                         \n",
      "pulling ad1518640c43... 100% ▕████████████████▏  483 B                         \n",
      "verifying sha256 digest ⠹ \u001b[?25h\u001b[?25l\u001b[2K\u001b[1G\u001b[A\u001b[2K\u001b[1G\u001b[A\u001b[2K\u001b[1G\u001b[A\u001b[2K\u001b[1G\u001b[A\u001b[2K\u001b[1G\u001b[A\u001b[2K\u001b[1G\u001b[A\u001b[2K\u001b[1Gpulling manifest \n",
      "pulling 00e1317cbf74... 100% ▕████████████████▏ 4.7 GB                         \n",
      "pulling 4fa551d4f938... 100% ▕████████████████▏  12 KB                         \n",
      "pulling 8ab4849b038c... 100% ▕████████████████▏  254 B                         \n",
      "pulling 577073ffcc6c... 100% ▕████████████████▏  110 B                         \n",
      "pulling ad1518640c43... 100% ▕████████████████▏  483 B                         \n",
      "verifying sha256 digest \n",
      "writing manifest \n",
      "removing any unused layers \n",
      "success \u001b[?25h\n"
     ]
    }
   ],
   "source": [
    "!ollama pull llama3"
   ]
  },
  {
   "cell_type": "markdown",
   "metadata": {},
   "source": [
    "### "
   ]
  },
  {
   "cell_type": "code",
   "execution_count": 174,
   "metadata": {},
   "outputs": [],
   "source": [
    "import time\n",
    "import ollama\n",
    "# since we are using smaller model (8b) and like openai's api, we dont have a guarentee of Json output, we will generate the similar output one at a time\n",
    "\n",
    "def generate_similar_question(question, additional_context=None):\n",
    "    \n",
    "    message = f'please reright the question in other words: {question}\\n note: only respond with the question, no answer needed. You can simplify the question as well if needed.'\n",
    "    if additional_context:\n",
    "        message = f'{additional_context} {message}'\n",
    "        \n",
    "    response = ollama.chat(\n",
    "        model='llama3',\n",
    "        messages=[\n",
    "            {\n",
    "                'role': 'user',\n",
    "                'content': message\n",
    "            }\n",
    "        ],\n",
    "        \n",
    "        )\n",
    "    new_question = response['message']['content']\n",
    "    return new_question\n",
    "\n",
    "\n",
    "def generate_10_similar_questions(orignal_question, additional_context=None):\n",
    "\n",
    "    questions = []\n",
    "    print(f\"Generating similar questions like '{orignal_question}'\")\n",
    "    while True:\n",
    "        new_question = generate_similar_question(\n",
    "            orignal_question, additional_context)\n",
    "\n",
    "        # we see some wierd behavour from ollama api, when your request text is the same as the previous one, it may return the same text\n",
    "        # hence we will skip to save the same text\n",
    "        if new_question in questions:\n",
    "            continue\n",
    "        questions.append(new_question)\n",
    "        time.sleep(0.5)\n",
    "        print(\".\", end=\"\")\n",
    "        if len(questions) == 10:\n",
    "            break\n",
    "        \n",
    "    return questions\n"
   ]
  },
  {
   "cell_type": "code",
   "execution_count": 163,
   "metadata": {},
   "outputs": [
    {
     "name": "stdout",
     "output_type": "stream",
     "text": [
      "Generating similar questions like 'Why is the sky blue?'\n",
      ".........."
     ]
    },
    {
     "data": {
      "text/plain": [
       "['What makes the sky appear blue to our eyes?',\n",
       " 'What makes the sky appear a specific shade of blue?',\n",
       " 'What makes the sky appear blue?',\n",
       " 'What makes the sky appear to be blue to our eyes?',\n",
       " 'What makes the daytime sky appear a certain shade of blue?',\n",
       " \"What's behind the beautiful blue color of the daytime sky?\",\n",
       " 'Why does the atmosphere appear blue to our eyes?',\n",
       " 'Why does the atmosphere scatter sunlight to make the sky appear blue?',\n",
       " 'What makes the daytime sky appear blue?',\n",
       " 'What color is the sky most of the time?']"
      ]
     },
     "execution_count": 163,
     "metadata": {},
     "output_type": "execute_result"
    }
   ],
   "source": [
    "generate_10_similar_questions(\"Why is the sky blue?\")"
   ]
  },
  {
   "cell_type": "markdown",
   "metadata": {},
   "source": [
    "We can see above how the local llm is generation similar questions to the origninal, now we will use the same function to generate more data."
   ]
  },
  {
   "cell_type": "code",
   "execution_count": 175,
   "metadata": {},
   "outputs": [
    {
     "name": "stdout",
     "output_type": "stream",
     "text": [
      "Generating similar questions like 'What is the definition of Aggregate analysis in the context of escrow account analysis?'\n",
      ".........."
     ]
    },
    {
     "data": {
      "text/plain": [
       "['What does \"Aggregate Analysis\" mean when examining an escrow account\\'s transactions?',\n",
       " 'What does \"Aggregate Analysis\" refer to when used in the context of analyzing an escrow account\\'s performance?',\n",
       " 'What does \"Aggregate Analysis\" mean when discussing escrow account transactions?',\n",
       " 'What does \"aggregate\" mean when referring to the analysis of an escrow account?',\n",
       " 'What does \"Aggregate\" refer to when analyzing data related to an escrow account?',\n",
       " 'What does \"Aggregate Analysis\" refer to in relation to analyzing an escrow account\\'s transactions and activity?',\n",
       " 'What does \"Aggregate Analysis\" refer to in the context of analyzing an escrow account?',\n",
       " 'What does \"Aggregate Analysis\" mean when analyzing an escrow account\\'s financial data?',\n",
       " 'What does \"Aggregate Analysis\" refer to in relation to analyzing data for an escrow account?',\n",
       " 'What does \"Aggregate Analysis\" mean when applied to analyzing an escrow account?']"
      ]
     },
     "execution_count": 175,
     "metadata": {},
     "output_type": "execute_result"
    }
   ],
   "source": [
    "generate_10_similar_questions(\n",
    "    \"What is the definition of Aggregate analysis in the context of escrow account analysis?\",\n",
    "    additional_context=\"remove the term escrow account from your resposne\")"
   ]
  },
  {
   "cell_type": "code",
   "execution_count": null,
   "metadata": {},
   "outputs": [],
   "source": [
    "# WARNING: This code will take a long time to run (about 60 min on macbook m2 pro 32 gb) and will use up a lot of local Compute Resource\n",
    "# now lets do the same for all the qenerated Q/A pairs, and save them to a new json file\n",
    "for chunk in generated_qa_chunks.get('data'):\n",
    "    for qa_pair in chunk.get('data'):\n",
    "        new_questions = generate_10_similar_questions(qa_pair.get('q'))\n",
    "        qa_pair['similar_questions'] = new_questions\n",
    "    \n",
    "    # save qa_chunks to a json file so we dont loose the data\n",
    "    with open('qa_chunks_with_similar_questions.json', 'w') as f:\n",
    "        json.dump(generated_qa_chunks, f)"
   ]
  },
  {
   "cell_type": "code",
   "execution_count": 178,
   "metadata": {},
   "outputs": [
    {
     "data": {
      "text/plain": [
       "{'q': 'What are the requirements for an escrow account established by a lender in connection with a federally related mortgage loan?',\n",
       " 'a': 'The requirements for an escrow account set limits based on monthly payments and disbursements within a calendar year. If the escrow account involves a different payment period like biweekly, the requirements are modified accordingly.',\n",
       " 'similar_questions': ['What are the regulatory standards and guidelines that govern the establishment of an escrow account by a lender when originating a federally related mortgage loan?',\n",
       "  'What are the regulations or guidelines that govern the establishment of an escrow account by a lender when issuing a federally related mortgage loan?',\n",
       "  'What are the key criteria that must be met when setting up an escrow account by a lender, in relation to federal regulations for mortgages?',\n",
       "  'What are the key guidelines or rules that a lender must follow when setting up an escrow account to manage taxes and insurance payments for a home loan insured by the Federal Housing Administration (FHA) or guaranteed by the Department of Veterans Affairs (VA)?',\n",
       "  'What are the key conditions and guidelines that lenders must follow when establishing an escrow account for a federal government-related mortgage loan?',\n",
       "  'What are the essential guidelines or standards that a lender must follow when setting up an escrow account to accompany a federally insured mortgage loan?',\n",
       "  'What are the key factors that a lender must consider when setting up an escrow account for a mortgage loan that is subject to federal regulations?',\n",
       "  'What are the key criteria for setting up an escrow account by a lender when originating a federally related mortgage loan?',\n",
       "  \"What are the essential criteria for a lender's escrow account related to a federal government-backed home loan?\",\n",
       "  'What are the key provisions or standards that a lender must adhere to when setting up an escrow account for a federally related mortgage loan?']}"
      ]
     },
     "execution_count": 178,
     "metadata": {},
     "output_type": "execute_result"
    }
   ],
   "source": [
    "generated_qa_chunks.get('data')[0].get('data')[0]"
   ]
  },
  {
   "cell_type": "markdown",
   "metadata": {},
   "source": [
    "Now we have 3000+ q/a pairs after we pair the generated data with the GPT-3.5-turbo generated data. ideally it will be good to have similar answers generated as well but in the interest of time we will just use the questions generated by the llama3-8b-instruct model."
   ]
  },
  {
   "cell_type": "markdown",
   "metadata": {},
   "source": []
  },
  {
   "cell_type": "code",
   "execution_count": 184,
   "metadata": {},
   "outputs": [
    {
     "name": "stdout",
     "output_type": "stream",
     "text": [
      "{'question': 'What are the requirements for an escrow account established by a lender in connection with a federally related mortgage loan?', 'answer': 'The requirements for an escrow account set limits based on monthly payments and disbursements within a calendar year. If the escrow account involves a different payment period like biweekly, the requirements are modified accordingly.', 'chunk_id': 0}\n",
      "4048\n"
     ]
    }
   ],
   "source": [
    "### lets bring everything together, and generate the final dataset for fine-tuning the model.\n",
    "# we need a csv file with cloums: question, answer, chunk_id\n",
    "qa = []\n",
    "for chunk in generated_qa_chunks.get('data'):\n",
    "    for qa_pair in chunk.get('data'):\n",
    "        new_pair = {\n",
    "            \"question\": qa_pair.get('q'),\n",
    "            \"answer\": qa_pair.get('a'),\n",
    "            \"chunk_id\": chunk.get('id')\n",
    "        }\n",
    "        qa.append(new_pair)\n",
    "        for similar_question in qa_pair.get('similar_questions'):\n",
    "            new_pair = {\n",
    "                \"question\": similar_question,\n",
    "                \"answer\": qa_pair.get('a'),\n",
    "                \"chunk_id\": chunk.get('id')\n",
    "            }\n",
    "            qa.append(new_pair)\n",
    "        \n",
    "print(qa[0])\n",
    "print(len(qa))\n",
    "\n",
    "        \n"
   ]
  },
  {
   "cell_type": "code",
   "execution_count": 185,
   "metadata": {},
   "outputs": [],
   "source": [
    "# saving the pairs to a csv file\n",
    "# Save the data to a csv file.\n",
    "import pandas as pd\n",
    "df = pd.DataFrame(qa)\n",
    "df.to_csv('qa_finetuning_dataset.csv', index=False)"
   ]
  },
  {
   "cell_type": "code",
   "execution_count": 191,
   "metadata": {},
   "outputs": [],
   "source": [
    "#loading the data to make sure it was saved correctly\n",
    "df = pd.read_csv('generated_qa_data/qa_finetuning_dataset.csv')\n",
    "# adding an extra colum \"input\", and renaming the colum question to \"input\"and answer to \"output\"\n",
    "df[\"instruction\"] = df['question']\n",
    "df['output'] = df['answer']\n",
    "df = df.drop(columns=['question', 'answer', 'chunk_id'])\n",
    "# add an empty colum input \n",
    "df['input'] = \"\""
   ]
  },
  {
   "cell_type": "code",
   "execution_count": 192,
   "metadata": {},
   "outputs": [
    {
     "data": {
      "text/html": [
       "<div>\n",
       "<style scoped>\n",
       "    .dataframe tbody tr th:only-of-type {\n",
       "        vertical-align: middle;\n",
       "    }\n",
       "\n",
       "    .dataframe tbody tr th {\n",
       "        vertical-align: top;\n",
       "    }\n",
       "\n",
       "    .dataframe thead th {\n",
       "        text-align: right;\n",
       "    }\n",
       "</style>\n",
       "<table border=\"1\" class=\"dataframe\">\n",
       "  <thead>\n",
       "    <tr style=\"text-align: right;\">\n",
       "      <th></th>\n",
       "      <th>instruction</th>\n",
       "      <th>output</th>\n",
       "      <th>input</th>\n",
       "    </tr>\n",
       "  </thead>\n",
       "  <tbody>\n",
       "    <tr>\n",
       "      <th>0</th>\n",
       "      <td>What are the requirements for an escrow accoun...</td>\n",
       "      <td>The requirements for an escrow account set lim...</td>\n",
       "      <td></td>\n",
       "    </tr>\n",
       "    <tr>\n",
       "      <th>1</th>\n",
       "      <td>What are the regulatory standards and guidelin...</td>\n",
       "      <td>The requirements for an escrow account set lim...</td>\n",
       "      <td></td>\n",
       "    </tr>\n",
       "    <tr>\n",
       "      <th>2</th>\n",
       "      <td>What are the regulations or guidelines that go...</td>\n",
       "      <td>The requirements for an escrow account set lim...</td>\n",
       "      <td></td>\n",
       "    </tr>\n",
       "    <tr>\n",
       "      <th>3</th>\n",
       "      <td>What are the key criteria that must be met whe...</td>\n",
       "      <td>The requirements for an escrow account set lim...</td>\n",
       "      <td></td>\n",
       "    </tr>\n",
       "    <tr>\n",
       "      <th>4</th>\n",
       "      <td>What are the key guidelines or rules that a le...</td>\n",
       "      <td>The requirements for an escrow account set lim...</td>\n",
       "      <td></td>\n",
       "    </tr>\n",
       "  </tbody>\n",
       "</table>\n",
       "</div>"
      ],
      "text/plain": [
       "                                         instruction  \\\n",
       "0  What are the requirements for an escrow accoun...   \n",
       "1  What are the regulatory standards and guidelin...   \n",
       "2  What are the regulations or guidelines that go...   \n",
       "3  What are the key criteria that must be met whe...   \n",
       "4  What are the key guidelines or rules that a le...   \n",
       "\n",
       "                                              output input  \n",
       "0  The requirements for an escrow account set lim...        \n",
       "1  The requirements for an escrow account set lim...        \n",
       "2  The requirements for an escrow account set lim...        \n",
       "3  The requirements for an escrow account set lim...        \n",
       "4  The requirements for an escrow account set lim...        "
      ]
     },
     "execution_count": 192,
     "metadata": {},
     "output_type": "execute_result"
    }
   ],
   "source": [
    "df.head()"
   ]
  }
 ],
 "metadata": {
  "kernelspec": {
   "display_name": ".venv",
   "language": "python",
   "name": "python3"
  },
  "language_info": {
   "codemirror_mode": {
    "name": "ipython",
    "version": 3
   },
   "file_extension": ".py",
   "mimetype": "text/x-python",
   "name": "python",
   "nbconvert_exporter": "python",
   "pygments_lexer": "ipython3",
   "version": "3.11.5"
  }
 },
 "nbformat": 4,
 "nbformat_minor": 2
}
